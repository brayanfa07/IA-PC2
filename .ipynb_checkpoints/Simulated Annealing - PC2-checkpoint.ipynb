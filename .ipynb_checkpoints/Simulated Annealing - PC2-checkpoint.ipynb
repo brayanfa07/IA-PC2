{
 "cells": [
  {
   "cell_type": "markdown",
   "metadata": {},
   "source": [
    "# Simulated Annealing, Proyecto Corto 2 - Inteligencia Artificial\n",
    "\n",
    "Enlace de Github: https://github.com/brayanfa07/IA-PC2\n",
    "        \n",
    "### Integrantes\n",
    "\n",
    "- Brayan Fajardo Alvarado\n",
    "- Fabricio Castillo Alvarado\n",
    "- Gerald Mora Mora\n",
    "\n",
    "## ¿Qué es un algoritmo de Simulated Annealing?"
   ]
  },
  {
   "cell_type": "markdown",
   "metadata": {},
   "source": [
    "## Características de Simulated Annealing"
   ]
  },
  {
   "cell_type": "markdown",
   "metadata": {},
   "source": [
    "## Construcción del algoritmo de Simulated Annealing\n"
   ]
  },
  {
   "cell_type": "markdown",
   "metadata": {},
   "source": [
    "## ¿Cómo desarrollar un algoritmo de Simulated Annealing en Python?"
   ]
  },
  {
   "cell_type": "markdown",
   "metadata": {},
   "source": [
    "## Referencias Bibliográficas"
   ]
  },
  {
   "cell_type": "code",
   "execution_count": null,
   "metadata": {},
   "outputs": [],
   "source": []
  }
 ],
 "metadata": {
  "kernelspec": {
   "display_name": "Python 3",
   "language": "python",
   "name": "python3"
  },
  "language_info": {
   "codemirror_mode": {
    "name": "ipython",
    "version": 3
   },
   "file_extension": ".py",
   "mimetype": "text/x-python",
   "name": "python",
   "nbconvert_exporter": "python",
   "pygments_lexer": "ipython3",
   "version": "3.6.5"
  }
 },
 "nbformat": 4,
 "nbformat_minor": 2
}
