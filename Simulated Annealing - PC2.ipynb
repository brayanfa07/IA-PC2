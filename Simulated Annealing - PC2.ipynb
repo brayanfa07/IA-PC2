{
 "cells": [
  {
   "cell_type": "markdown",
   "metadata": {},
   "source": [
    "# Simulated Annealing\n",
    "## Proyecto Corto 2 - Inteligencia Artificial\n",
    "\n",
    "Enlace de Github: https://github.com/brayanfa07/IA-PC2\n",
    "        \n",
    "### Integrantes\n",
    "\n",
    "- Brayan Fajardo Alvarado\n",
    "- Fabricio Castillo Alvarado\n",
    "- Gerald Mora Mora\n",
    "\n",
    "---"
   ]
  },
  {
   "cell_type": "markdown",
   "metadata": {},
   "source": [
    "# 1. ¿Qué es un algoritmo de Simulated Annealing?\n",
    "---"
   ]
  },
  {
   "cell_type": "markdown",
   "metadata": {},
   "source": [
    "A este algoritmo se le llama en español como ***Cristalización simulada, temple simulado*** o ***recocido simulado***.\n",
    "\n",
    "\n",
    "Es un algoritmo estocástico de búsqueda local, el cual es una combinación del __Hill Climbing__ (___Búsqueda local voraz___) con recorridos aleatorios, con el que se permite optimizar globalmente el valor objetivo de una función."
   ]
  },
  {
   "cell_type": "markdown",
   "metadata": {},
   "source": [
    "> Los algoritmos de búsqueda local operan usando el nodo actual y se mueven entre los vecinos del nodo. Además, usan menos memoria y puede encontrar soluciones razonables donde algoritmos sistemáticos son inadecuados.  \n",
    "También permiten resolver problemas de optimización pura, en el cual hay que encontrar el mejor estado, ya sea mínimo o máximo, de acuerdo a una función objetivo."
   ]
  },
  {
   "cell_type": "markdown",
   "metadata": {},
   "source": [
    "__Hill Climbing__ permite realizar una búsqueda local del vecino que logre cumplir el menor costo (mínimo local). Esto lo convierte en un algoritmo __incompleto__, ya que no logra llegar al valor mínimo global de la función."
   ]
  },
  {
   "cell_type": "markdown",
   "metadata": {},
   "source": [
    "## 2. Características de Simulated Annealing\n",
    "---"
   ]
  },
  {
   "cell_type": "markdown",
   "metadata": {},
   "source": [
    "- Proviene del *annealing* en metalurgia, que es el proceso en el cual se calienta un metal o un vidrio a muy alta temperatura, y luego gradualmente se enfría, permitiendo que el material alcance un estado bajo de energía cristalino."
   ]
  },
  {
   "cell_type": "markdown",
   "metadata": {},
   "source": [
    "![](images/annealing 2.jpeg)"
   ]
  },
  {
   "cell_type": "markdown",
   "metadata": {},
   "source": [
    "- Este algoritmo pretende evitar los máximos locales, y busca encontrar el mínimo global de una función, tratando de no quedarse atascado en un mínimo local\n",
    "\n",
    "![](images/function.png)\n",
    "\n"
   ]
  },
  {
   "cell_type": "markdown",
   "metadata": {},
   "source": [
    "Para comprender mejor este algoritmo, hay que verlo como si fuera una bola de ping-pong que va descendiendo sobre una superficie desigual con un montón de grietas o hendiduras.  \n",
    "\n",
    "Al momento de dejar que descienda la bola, esta se va quedar atascada en la primera grieta que encuentre en su descenso (esto representa un mínimo local), y luego se agrega\n",
    "\n"
   ]
  },
  {
   "cell_type": "markdown",
   "metadata": {},
   "source": [
    "![Mínimo local y mínimo global](images/minimum.png)"
   ]
  },
  {
   "cell_type": "markdown",
   "metadata": {},
   "source": [
    "## 3. Ecuación de cálculo del algoritmo de simulated annealing}\n",
    "---"
   ]
  },
  {
   "cell_type": "code",
   "execution_count": null,
   "metadata": {},
   "outputs": [],
   "source": []
  },
  {
   "cell_type": "markdown",
   "metadata": {},
   "source": [
    "## 4. Pseudocódigo de función de Simulated Annealing\n",
    "---\n"
   ]
  },
  {
   "cell_type": "markdown",
   "metadata": {},
   "source": [
    "![Pseudocódigo del algoritmo de simulated annealing](images/pseudocode.png)"
   ]
  },
  {
   "cell_type": "markdown",
   "metadata": {},
   "source": [
    "##  5. Implementación básica de Simulated Annealing en Python\n",
    "---"
   ]
  },
  {
   "cell_type": "code",
   "execution_count": 11,
   "metadata": {},
   "outputs": [],
   "source": [
    "import numpy as np\n",
    "import numpy.random as rand\n",
    "import matplotlib.pyplot as plt\n",
    "import matplotlib as mpl\n",
    "import math\n",
    "from scipy import optimize "
   ]
  },
  {
   "cell_type": "markdown",
   "metadata": {},
   "source": [
    "### Intervalo de estados"
   ]
  },
  {
   "cell_type": "code",
   "execution_count": 12,
   "metadata": {},
   "outputs": [],
   "source": [
    "interval_estate = (0, 10)"
   ]
  },
  {
   "cell_type": "markdown",
   "metadata": {},
   "source": [
    "### Funcion a minimizar"
   ]
  },
  {
   "cell_type": "code",
   "execution_count": 13,
   "metadata": {},
   "outputs": [],
   "source": [
    "def f(x):\n",
    "    #return 0.2 + x**2 + x**2 - 0.1*math.cos(6.0*3.1415*x) - 0.1*math.cos(6.0*3.1415*x)\n",
    "    return x ** 2"
   ]
  },
  {
   "cell_type": "code",
   "execution_count": 14,
   "metadata": {},
   "outputs": [],
   "source": [
    "def random_start():\n",
    "    a, b = interval_estate\n",
    "    return a + (b - a) * rand.random_sample()"
   ]
  },
  {
   "cell_type": "code",
   "execution_count": 15,
   "metadata": {},
   "outputs": [],
   "source": [
    "def neighbour(x):\n",
    "    amplitude = (max(interval_estate) - min(interval_estate)) * 1 / 10\n",
    "    delta = (-amplitude/2.) + amplitude * rand.random_sample()\n",
    "    a, b = interval_estate\n",
    "    return max(min(x + delta, b), a)"
   ]
  },
  {
   "cell_type": "code",
   "execution_count": 16,
   "metadata": {},
   "outputs": [],
   "source": [
    "def probability(cost, new_cost, temperature):\n",
    "    if new_cost < cost:\n",
    "        return 1\n",
    "    else:\n",
    "        p = np.exp(- (new_cost - cost) / temperature)\n",
    "        return p"
   ]
  },
  {
   "cell_type": "code",
   "execution_count": 17,
   "metadata": {},
   "outputs": [],
   "source": [
    "def temperature(c, temp):\n",
    "    return max(0.01, min(temp, temp - c))"
   ]
  },
  {
   "cell_type": "markdown",
   "metadata": {},
   "source": [
    "## Función de Simulated annealing"
   ]
  },
  {
   "cell_type": "code",
   "execution_count": 18,
   "metadata": {},
   "outputs": [],
   "source": [
    "def annealing(random_start,temp, maxsteps=1000):\n",
    "    state = random_start()\n",
    "    cost = f(state)\n",
    "    temp_list=[]\n",
    "    states, costs = [state], [cost]\n",
    "    for step in range(maxsteps):\n",
    "        c = step / float(maxsteps)\n",
    "        T = temperature(c, temp)\n",
    "        new_state = neighbour(state)\n",
    "        new_cost = f(new_state)\n",
    "        temp_list += [T]\n",
    "        #print(\"Reiteracion #\"+str(step)+\" : \\n     Temperatura = \"+str(T)+\", \\n     Estado = \"+str(state)+\", \\n     Nuevo estado = \"+str(new_state))\n",
    "        if probability(cost, new_cost, T) > rand.random():\n",
    "            state, cost = new_state, new_cost\n",
    "            states.append(state)\n",
    "            costs.append(cost)\n",
    "    return state, f(state), states, temp_list"
   ]
  },
  {
   "cell_type": "code",
   "execution_count": 19,
   "metadata": {},
   "outputs": [],
   "source": [
    "mpl.rcParams['figure.figsize'] = (15, 4)\n",
    "def plot1(states, temp_list):\n",
    "    plt.figure()\n",
    "    plt.subplot(121)\n",
    "    plt.plot(states, 'r')\n",
    "    plt.title(\"Evolucion de los estados con simulated annealing\", fontsize=14)\n",
    "    plt.ylabel('Estados')\n",
    "    plt.xlabel('Pasos o iteraciones')\n",
    "    plt.show()"
   ]
  },
  {
   "cell_type": "code",
   "execution_count": 20,
   "metadata": {},
   "outputs": [],
   "source": [
    "def plot2(states, temp_list):\n",
    "    plt.figure()\n",
    "    plt.subplot(121)\n",
    "    plt.plot(temp_list, 'g')\n",
    "    plt.title(\"Descenso de la temperatura para garantizar la convergencia al minimo global\", fontsize=14)\n",
    "    plt.ylabel('Temperatura')\n",
    "    plt.xlabel('Pasos o iteraciones')\n",
    "    plt.show()"
   ]
  },
  {
   "cell_type": "code",
   "execution_count": 21,
   "metadata": {},
   "outputs": [],
   "source": [
    "state, c, states, temp_list = annealing(random_start, 4, maxsteps=1000)"
   ]
  },
  {
   "cell_type": "markdown",
   "metadata": {},
   "source": [
    "### Convergencia al mínimo global"
   ]
  },
  {
   "cell_type": "code",
   "execution_count": 22,
   "metadata": {},
   "outputs": [
    {
     "data": {
      "image/png": "[encoded data removed]",
      "text/plain": [
       "<Figure size 1080x288 with 1 Axes>"
      ]
     },
     "metadata": {},
     "output_type": "display_data"
    }
   ],
   "source": [
    "plot1(states, temp_list)"
   ]
  },
  {
   "cell_type": "markdown",
   "metadata": {},
   "source": [
    "### Descenso de la temperatura"
   ]
  },
  {
   "cell_type": "code",
   "execution_count": 23,
   "metadata": {},
   "outputs": [
    {
     "data": {
      "image/png": "[encoded data removed]",
      "text/plain": [
       "<Figure size 1080x288 with 1 Axes>"
      ]
     },
     "metadata": {},
     "output_type": "display_data"
    }
   ],
   "source": [
    "plot2(states, temp_list)"
   ]
  },
  {
   "cell_type": "markdown",
   "metadata": {},
   "source": [
    "# Referencias Bibliográficas"
   ]
  },
  {
   "cell_type": "code",
   "execution_count": null,
   "metadata": {},
   "outputs": [],
   "source": [
    "\n"
   ]
  },
  {
   "cell_type": "code",
   "execution_count": null,
   "metadata": {},
   "outputs": [],
   "source": []
  }
 ],
 "metadata": {
  "kernelspec": {
   "display_name": "Python 3",
   "language": "python",
   "name": "python3"
  },
  "language_info": {
   "codemirror_mode": {
    "name": "ipython",
    "version": 3
   },
   "file_extension": ".py",
   "mimetype": "text/x-python",
   "name": "python",
   "nbconvert_exporter": "python",
   "pygments_lexer": "ipython3",
   "version": "3.6.5"
  }
 },
 "nbformat": 4,
 "nbformat_minor": 2
}
