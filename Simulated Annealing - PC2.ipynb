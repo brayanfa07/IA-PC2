{
 "cells": [
  {
   "cell_type": "markdown",
   "metadata": {},
   "source": [
    "# Simulated Annealing, Proyecto Corto 2 - Inteligencia Artificial\n",
    "\n",
    "Enlace de Github: https://github.com/brayanfa07/IA-PC2\n",
    "        \n",
    "### Integrantes\n",
    "\n",
    "- Brayan Fajardo Alvarado\n",
    "- Fabricio Castillo Alvarado\n",
    "- Gerald Mora Mora"
   ]
  },
  {
   "cell_type": "markdown",
   "metadata": {},
   "source": [
    "## ¿Qué es un algoritmo de Simulated Annealing?"
   ]
  },
  {
   "cell_type": "markdown",
   "metadata": {},
   "source": [
    "A este algoritmo se le llama en español ***Cristalización simulada, temple simulado*** o ***recocido simulado***.\n",
    "\n",
    "\n",
    "Es un algoritmo de búsqueda local, el cual es una combinación del Hill Climbing con recorridos aleatorios, con el que se permite optimizar globalmente el valor objetivo de una función.\n",
    "\n",
    "Los algoritmos de búsqueda local operan usando el nodo actual y se mueven entre los vecinos del nodo. Además, usan menos memoria y puede encontrar soluciones razonables donde algoritmos sistemáticos son inadecuados. También,. permiten resolver problemas de optimización pura, en el cual hay que encontrar el mejor estado de acuerdo a una función objetivo.\n",
    "\n",
    "(Hill Climbing) permite realizar una búsqueda local del vecino que logre cumplir el menor costo, además que sólo almacena el estado y el valor actual para la función objetivo."
   ]
  },
  {
   "cell_type": "markdown",
   "metadata": {},
   "source": [
    "## Características de Simulated Annealing"
   ]
  },
  {
   "cell_type": "markdown",
   "metadata": {},
   "source": [
    "- Proviene del annealing en metalurgia, que es el proceso en el cual se calienta un metal o un vidrio a muy alta temperatura, y luego gradualmente se enfría, permitiendo que el material alcance un estado bajo de energía."
   ]
  },
  {
   "cell_type": "code",
   "execution_count": null,
   "metadata": {},
   "outputs": [],
   "source": [
    "https://www.machinemfg.com/wp-content/uploads/2018/01/What-is-annealing.gif"
   ]
  },
  {
   "cell_type": "markdown",
   "metadata": {},
   "source": [
    "- Este algoritmo pretende evitar los máximos locales, y busca encontrar el mínimo global de una función, tratando de no quedarse tascado en un mínimo local"
   ]
  },
  {
   "cell_type": "markdown",
   "metadata": {},
   "source": [
    "## Pseudocódigo del algoritmo de Simulated Annealing\n"
   ]
  },
  {
   "cell_type": "markdown",
   "metadata": {},
   "source": [
    "**function** SIMULATED-ANNEALING (*problem, schedule*) **returns** a solution state  \n",
    "**inputs**:  \n",
    "*problem*, a problem  \n",
    "*schedule*, a mapping from time to “temperature”\n",
    "\n",
    "\n",
    "*current* ← MAKE-NODE (*problem*.INITIAL-STATE)  \n",
    "**for** t = 1 **to** ∞ **do**{   \n",
    "*T ← schedule(t)*  \n",
    "if *T* = 0 **then return** *current*  \n",
    "*next* ← a randomly selected successor of *current*  \n",
    "*ΔE* ← *next*.VALUE – *current*.V ALUE  \n",
    "**if** *ΔE* > 0 **then** *current* ← *next*  \n",
    "**else** *current* ← *next* only with probability e^(*ΔE/T*)  \n",
    "}"
   ]
  },
  {
   "cell_type": "markdown",
   "metadata": {},
   "source": [
    "##  Algoritmo básico de Simulated Annealing en Python"
   ]
  },
  {
   "cell_type": "code",
   "execution_count": null,
   "metadata": {},
   "outputs": [],
   "source": []
  },
  {
   "cell_type": "markdown",
   "metadata": {},
   "source": [
    "## Referencias Bibliográficas"
   ]
  },
  {
   "cell_type": "code",
   "execution_count": null,
   "metadata": {},
   "outputs": [],
   "source": [
    "\n"
   ]
  }
 ],
 "metadata": {
  "kernelspec": {
   "display_name": "Python 3",
   "language": "python",
   "name": "python3"
  },
  "language_info": {
   "codemirror_mode": {
    "name": "ipython",
    "version": 3
   },
   "file_extension": ".py",
   "mimetype": "text/x-python",
   "name": "python",
   "nbconvert_exporter": "python",
   "pygments_lexer": "ipython3",
   "version": "3.6.5"
  }
 },
 "nbformat": 4,
 "nbformat_minor": 2
}
