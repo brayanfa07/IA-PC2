{
 "cells": [
  {
   "cell_type": "markdown",
   "metadata": {},
   "source": [
    "# Simulated Annealing\n",
    "## Proyecto Corto 2 - Inteligencia Artificial\n",
    "\n",
    "Enlace de Github: https://github.com/brayanfa07/IA-PC2\n",
    "        \n",
    "### Integrantes\n",
    "\n",
    "- Brayan Fajardo Alvarado\n",
    "- Fabricio Castillo Alvarado\n",
    "- Gerald Mora Mora\n",
    "\n",
    "---"
   ]
  },
  {
   "cell_type": "markdown",
   "metadata": {},
   "source": [
    "# ¿Qué es un algoritmo de Simulated Annealing?"
   ]
  },
  {
   "cell_type": "markdown",
   "metadata": {},
   "source": [
    "A este algoritmo se le llama en español ***Cristalización simulada, temple simulado*** o ***recocido simulado***.\n",
    "\n",
    "\n",
    "Es un algoritmo de búsqueda local, el cual es una combinación del Hill Climbing (Búsqueda local voraz) con recorridos aleatorios, con el que se permite optimizar globalmente el valor objetivo de una función.\n",
    "\n",
    "\n",
    "\n"
   ]
  },
  {
   "cell_type": "markdown",
   "metadata": {},
   "source": [
    "> Los algoritmos de búsqueda local operan usando el nodo actual y se mueven entre los vecinos del nodo. Además, usan menos memoria y puede encontrar soluciones razonables donde algoritmos sistemáticos son inadecuados. También permiten resolver problemas de optimización pura, en el cual hay que encontrar el mejor estado, ya sea mínimo o máximo, de acuerdo a una función objetivo."
   ]
  },
  {
   "cell_type": "markdown",
   "metadata": {},
   "source": [
    "Hill Climbing permite realizar una búsqueda local del vecino que logre cumplir el menor costo, además que sólo almacena el estado y el valor actual para la función objetivo."
   ]
  },
  {
   "cell_type": "markdown",
   "metadata": {},
   "source": [
    "## Características de Simulated Annealing"
   ]
  },
  {
   "cell_type": "markdown",
   "metadata": {},
   "source": [
    "- Proviene del *annealing* en metalurgia, que es el proceso en el cual se calienta un metal o un vidrio a muy alta temperatura, y luego gradualmente se enfría, permitiendo que el material alcance un estado bajo de energía."
   ]
  },
  {
   "cell_type": "markdown",
   "metadata": {},
   "source": [
    "![](images/annealing 2.jpeg)"
   ]
  },
  {
   "cell_type": "markdown",
   "metadata": {},
   "source": [
    "- Este algoritmo pretende evitar los máximos locales, y busca encontrar el mínimo global de una función, tratando de no quedarse tascado en un mínimo local\n",
    "\n",
    "![](images/function.png)\n",
    "\n"
   ]
  },
  {
   "cell_type": "markdown",
   "metadata": {},
   "source": [
    "![Mínimo local y mínimo global](images/minimum.png)"
   ]
  },
  {
   "cell_type": "markdown",
   "metadata": {},
   "source": [
    "## Ecuación de cálculo del algoritmo de simulated annealing"
   ]
  },
  {
   "cell_type": "code",
   "execution_count": null,
   "metadata": {},
   "outputs": [],
   "source": []
  },
  {
   "cell_type": "markdown",
   "metadata": {},
   "source": [
    "## Pseudocódigo del algoritmo de Simulated Annealing\n"
   ]
  },
  {
   "cell_type": "markdown",
   "metadata": {},
   "source": [
    "![Pseudocódigo del algoritmo de simulated annealing](images/pseudocode.png)"
   ]
  },
  {
   "cell_type": "markdown",
   "metadata": {},
   "source": [
    "##  Algoritmo básico de Simulated Annealing en Python"
   ]
  },
  {
   "cell_type": "code",
   "execution_count": null,
   "metadata": {},
   "outputs": [],
   "source": []
  },
  {
   "cell_type": "markdown",
   "metadata": {},
   "source": [
    "## Referencias Bibliográficas"
   ]
  },
  {
   "cell_type": "code",
   "execution_count": null,
   "metadata": {},
   "outputs": [],
   "source": [
    "\n"
   ]
  },
  {
   "cell_type": "code",
   "execution_count": null,
   "metadata": {},
   "outputs": [],
   "source": []
  }
 ],
 "metadata": {
  "kernelspec": {
   "display_name": "Python 3",
   "language": "python",
   "name": "python3"
  },
  "language_info": {
   "codemirror_mode": {
    "name": "ipython",
    "version": 3
   },
   "file_extension": ".py",
   "mimetype": "text/x-python",
   "name": "python",
   "nbconvert_exporter": "python",
   "pygments_lexer": "ipython3",
   "version": "3.6.5"
  }
 },
 "nbformat": 4,
 "nbformat_minor": 2
}
